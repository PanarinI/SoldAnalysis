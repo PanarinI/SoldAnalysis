{
 "cells": [
  {
   "cell_type": "code",
   "execution_count": 1,
   "id": "67f0130b-d632-41e1-8f3e-7b86c3a4175c",
   "metadata": {},
   "outputs": [
    {
     "name": "stdout",
     "output_type": "stream",
     "text": [
      "Requirement already satisfied: asyncpg in f:\\pythonproject\\soldanalysis\\.venv\\lib\\site-packages (0.30.0)\n",
      "Note: you may need to restart the kernel to use updated packages.\n"
     ]
    },
    {
     "name": "stderr",
     "output_type": "stream",
     "text": [
      "\n",
      "[notice] A new release of pip is available: 23.2.1 -> 25.0.1\n",
      "[notice] To update, run: python.exe -m pip install --upgrade pip\n"
     ]
    }
   ],
   "source": [
    "pip install asyncpg"
   ]
  },
  {
   "cell_type": "code",
   "execution_count": 2,
   "id": "a83e3db6-f65a-4ace-a252-e4591fc680d2",
   "metadata": {},
   "outputs": [],
   "source": [
    "import asyncio\n",
    "import asyncpg\n",
    "\n",
    "# Функция для подключения к базе данных\n",
    "async def connect_to_db():\n",
    "    connection = await asyncpg.connect(\n",
    "        user='postgres',\n",
    "        password='Pdjyjr2',\n",
    "        database='SoldAnalysis',\n",
    "        host='localhost',\n",
    "        port='5432'\n",
    "    )\n",
    "    return connection\n"
   ]
  },
  {
   "cell_type": "code",
   "execution_count": 3,
   "id": "e65c2896-9ff7-4789-863f-e58449fc79ed",
   "metadata": {},
   "outputs": [
    {
     "name": "stdout",
     "output_type": "stream",
     "text": [
      "Тип данных столбца price после преобразования: float64\n",
      "Данные за 2025-03-09:\n",
      "     id      username    price           sale_date    sale_day\n",
      "0   424      @chatgpt  80000.0 2025-03-09 20:36:48  2025-03-09\n",
      "1   431         @tgai  13650.0 2025-03-09 20:21:53  2025-03-09\n",
      "68  433    @buterbrod    400.0 2025-03-09 20:14:18  2025-03-09\n",
      "80  469     @godofwar    222.0 2025-03-09 18:13:36  2025-03-09\n",
      "85  414  @anthologist    200.0 2025-03-09 22:26:01  2025-03-09\n",
      "Данные за 2025-03-10:\n",
      "      id username   price           sale_date    sale_day\n",
      "2   2193    @duba  8400.0 2025-03-11 11:31:55  2025-03-11\n",
      "3   2109    @pg88  5303.0 2025-03-11 04:05:58  2025-03-11\n",
      "8   2106    @ag88  5050.0 2025-03-11 04:11:44  2025-03-11\n",
      "10  2620    @yldb  5050.0 2025-03-11 15:16:41  2025-03-11\n",
      "12  2521    @loud  5050.0 2025-03-11 18:12:55  2025-03-11\n"
     ]
    }
   ],
   "source": [
    "import pandas as pd\n",
    "# Функция для получения данных\n",
    "async def fetch_data():\n",
    "    connection = await connect_to_db()\n",
    "    query = \"SELECT * FROM public.sold_usernames ORDER BY price DESC\"\n",
    "    records = await connection.fetch(query)\n",
    "    await connection.close()  # Закрываем соединение\n",
    "    return records\n",
    "\n",
    "# Используем await напрямую в Jupyter Notebook\n",
    "data = await fetch_data()\n",
    "\n",
    "# Преобразуем данные в DataFrame\n",
    "df = pd.DataFrame(data, columns=['id', 'username', 'price', 'sale_date'])\n",
    "\n",
    "# Преобразуем sale_date в datetime\n",
    "df['sale_date'] = pd.to_datetime(df['sale_date'])\n",
    "\n",
    "# Извлекаем дату (без времени)\n",
    "df['sale_day'] = df['sale_date'].dt.date\n",
    "\n",
    "# Преобразуем все значения в строки (на всякий случай)\n",
    "df['price'] = df['price'].astype(str)\n",
    "\n",
    "# Очищаем данные: удаляем всё, кроме цифр, точек и запятых\n",
    "df['price'] = df['price'].str.replace(r'[^0-9.,]', '', regex=True)\n",
    "\n",
    "# Преобразуем в числа: заменяем запятые на пустую строку и преобразуем в float\n",
    "df['price'] = pd.to_numeric(df['price'].str.replace(',', ''), errors='coerce')\n",
    "\n",
    "# Удаляем строки с NaN в price\n",
    "df.dropna(subset=['price'], inplace=True)\n",
    "\n",
    "# Проверяем тип данных столбца price после преобразования\n",
    "print(\"Тип данных столбца price после преобразования:\", df['price'].dtype)\n",
    "\n",
    "# Теперь можно фильтровать данные по дням\n",
    "df_0309 = df[df['sale_day'] == pd.to_datetime('2025-03-09').date()]\n",
    "df_0310 = df[df['sale_day'] == pd.to_datetime('2025-03-10').date()]\n",
    "df_0311 = df[df['sale_day'] == pd.to_datetime('2025-03-11').date()]\n",
    "\n",
    "# Выводим результат\n",
    "print(\"Данные за 2025-03-09:\")\n",
    "print(df_0309.head())\n",
    "\n",
    "print(\"Данные за 2025-03-10:\")\n",
    "print(df_0311.head())"
   ]
  },
  {
   "cell_type": "code",
   "execution_count": 4,
   "id": "b3cb5d11-4da1-4f2b-8a6c-f59aa151ab7c",
   "metadata": {},
   "outputs": [
    {
     "name": "stdout",
     "output_type": "stream",
     "text": [
      "Общее количество продаж за 2025-03-09: 98\n",
      "Общее количество продаж за 2025-03-10: 430\n",
      "Общее количество продаж за 2025-03-11: 558\n"
     ]
    }
   ],
   "source": [
    "# Общее количество продаж за 2025-03-09\n",
    "total_sales_0309 = df_0309.shape[0]\n",
    "print(f\"Общее количество продаж за 2025-03-09: {total_sales_0309}\")\n",
    "\n",
    "# Общее количество продаж за 2025-03-10\n",
    "total_sales_0310 = df_0310.shape[0]\n",
    "print(f\"Общее количество продаж за 2025-03-10: {total_sales_0310}\")\n",
    "\n",
    "# Общее количество продаж за 2025-03-11\n",
    "total_sales_0311 = df_0311.shape[0]\n",
    "print(f\"Общее количество продаж за 2025-03-11: {total_sales_0311}\")"
   ]
  },
  {
   "cell_type": "code",
   "execution_count": 5,
   "id": "21d41a71-c9d9-42c2-8d4a-7bd01075f9c0",
   "metadata": {},
   "outputs": [
    {
     "name": "stdout",
     "output_type": "stream",
     "text": [
      "Топ-20 самых дорогих продаж за весь период наблюдений:\n",
      "              username    price           sale_date\n",
      "0             @chatgpt  80000.0 2025-03-09 20:36:48\n",
      "1                @tgai  13650.0 2025-03-09 20:21:53\n",
      "2                @duba   8400.0 2025-03-11 11:31:55\n",
      "3                @pg88   5303.0 2025-03-11 04:05:58\n",
      "4                @jdtc   5050.0 2025-03-10 12:05:14\n",
      "5                @kuku   5050.0 2025-03-10 12:07:15\n",
      "6                @jpay   5050.0 2025-03-10 12:12:08\n",
      "7                @sfgq   5050.0 2025-03-10 20:00:51\n",
      "8                @ag88   5050.0 2025-03-11 04:11:44\n",
      "9                @cgdb   5050.0 2025-03-10 07:35:37\n",
      "10               @yldb   5050.0 2025-03-11 15:16:41\n",
      "11               @csjr   5050.0 2025-03-10 10:25:15\n",
      "12               @loud   5050.0 2025-03-11 18:12:55\n",
      "13               @pork   5050.0 2025-03-11 03:25:55\n",
      "14               @gmgn   5050.0 2025-03-11 03:17:54\n",
      "15               @diss   5050.0 2025-03-12 05:27:40\n",
      "16            @android   4023.0 2025-03-12 13:03:11\n",
      "17  @satoshipremium183   3360.0 2025-03-11 12:23:00\n",
      "18  @satoshipremium199   3360.0 2025-03-11 12:22:39\n",
      "19  @satoshipremium194   3200.0 2025-03-12 01:56:33\n"
     ]
    }
   ],
   "source": [
    "# Топ-10 самых дорогих продаж\n",
    "#top_20_expensive = df_0310.nlargest(20, 'price')\n",
    "top_20_expensive = df.nlargest(20, 'price')\n",
    "#print(\"Топ-20 самых дорогих продаж за 10 марта:\")\n",
    "print(\"Топ-20 самых дорогих продаж за весь период наблюдений:\")\n",
    "print(top_20_expensive[['username', 'price', 'sale_date']])"
   ]
  },
  {
   "cell_type": "code",
   "execution_count": 8,
   "id": "424a122c-3ce9-4773-9ace-4848da333d0f",
   "metadata": {},
   "outputs": [
    {
     "name": "stdout",
     "output_type": "stream",
     "text": [
      "Средняя цена продаж за 10 марта: 99.90172093023257\n",
      "Медианная цена продаж за 10 марта: 10.0\n",
      "Средняя цена продаж за 11 марта: 296.9621863799283\n",
      "Медианная цена продаж за 11 марта: 10.0\n"
     ]
    }
   ],
   "source": [
    "# Средняя цена\n",
    "average_price = df_0310['price'].mean()\n",
    "\n",
    "# Медианная цена\n",
    "median_price = df_0310['price'].median()\n",
    "\n",
    "print(f\"Средняя цена продаж за 10 марта: {average_price}\")\n",
    "print(f\"Медианная цена продаж за 10 марта: {median_price}\")\n",
    "\n",
    "# Средняя цена\n",
    "average_price = df_0311['price'].mean()\n",
    "\n",
    "# Медианная цена\n",
    "median_price = df_0311['price'].median()\n",
    "\n",
    "print(f\"Средняя цена продаж за 11 марта: {average_price}\")\n",
    "print(f\"Медианная цена продаж за 11 марта: {median_price}\")"
   ]
  },
  {
   "cell_type": "code",
   "execution_count": 9,
   "id": "b7b813ce-e9b0-47a6-9852-91cdc39e4f58",
   "metadata": {},
   "outputs": [
    {
     "name": "stdout",
     "output_type": "stream",
     "text": [
      "    sale_hour  количество_продаж\n",
      "0           0                  5\n",
      "1           1                  8\n",
      "2           2                  6\n",
      "3           3                  6\n",
      "4           4                  6\n",
      "5           5                  7\n",
      "6           6                 23\n",
      "7           7                 15\n",
      "8           8                 12\n",
      "9           9                 25\n",
      "10         10                 19\n",
      "11         11                 16\n",
      "12         12                 26\n",
      "13         13                 27\n",
      "14         14                 18\n",
      "15         15                 22\n",
      "16         16                 18\n",
      "17         17                 26\n",
      "18         18                 21\n",
      "19         19                 24\n",
      "20         20                 20\n",
      "21         21                 30\n",
      "22         22                 30\n",
      "23         23                 20\n"
     ]
    },
    {
     "name": "stderr",
     "output_type": "stream",
     "text": [
      "C:\\Users\\IG\\AppData\\Local\\Temp\\ipykernel_16552\\3456829741.py:2: SettingWithCopyWarning: \n",
      "A value is trying to be set on a copy of a slice from a DataFrame.\n",
      "Try using .loc[row_indexer,col_indexer] = value instead\n",
      "\n",
      "See the caveats in the documentation: https://pandas.pydata.org/pandas-docs/stable/user_guide/indexing.html#returning-a-view-versus-a-copy\n",
      "  df_0310['sale_hour'] = df_0310['sale_date'].dt.hour\n"
     ]
    }
   ],
   "source": [
    "# Количество продаж по часам\n",
    "df_0310['sale_hour'] = df_0310['sale_date'].dt.hour\n",
    "sales_per_hour = df_0310.groupby('sale_hour').size().reset_index(name='количество_продаж')\n",
    "print(sales_per_hour)"
   ]
  },
  {
   "cell_type": "code",
   "execution_count": 10,
   "id": "f022482d-30e1-4ec1-babc-078863e49df7",
   "metadata": {
    "scrolled": true
   },
   "outputs": [
    {
     "name": "stdout",
     "output_type": "stream",
     "text": [
      "Requirement already satisfied: matplotlib in f:\\pythonproject\\soldanalysis\\.venv\\lib\\site-packages (3.10.1)\n",
      "Requirement already satisfied: seaborn in f:\\pythonproject\\soldanalysis\\.venv\\lib\\site-packages (0.13.2)\n",
      "Requirement already satisfied: contourpy>=1.0.1 in f:\\pythonproject\\soldanalysis\\.venv\\lib\\site-packages (from matplotlib) (1.3.1)\n",
      "Requirement already satisfied: cycler>=0.10 in f:\\pythonproject\\soldanalysis\\.venv\\lib\\site-packages (from matplotlib) (0.12.1)\n",
      "Requirement already satisfied: fonttools>=4.22.0 in f:\\pythonproject\\soldanalysis\\.venv\\lib\\site-packages (from matplotlib) (4.56.0)\n",
      "Requirement already satisfied: kiwisolver>=1.3.1 in f:\\pythonproject\\soldanalysis\\.venv\\lib\\site-packages (from matplotlib) (1.4.8)\n",
      "Requirement already satisfied: numpy>=1.23 in f:\\pythonproject\\soldanalysis\\.venv\\lib\\site-packages (from matplotlib) (2.2.3)\n",
      "Requirement already satisfied: packaging>=20.0 in f:\\pythonproject\\soldanalysis\\.venv\\lib\\site-packages (from matplotlib) (24.2)\n",
      "Requirement already satisfied: pillow>=8 in f:\\pythonproject\\soldanalysis\\.venv\\lib\\site-packages (from matplotlib) (11.1.0)\n",
      "Requirement already satisfied: pyparsing>=2.3.1 in f:\\pythonproject\\soldanalysis\\.venv\\lib\\site-packages (from matplotlib) (3.2.1)\n",
      "Requirement already satisfied: python-dateutil>=2.7 in f:\\pythonproject\\soldanalysis\\.venv\\lib\\site-packages (from matplotlib) (2.9.0.post0)\n",
      "Requirement already satisfied: pandas>=1.2 in f:\\pythonproject\\soldanalysis\\.venv\\lib\\site-packages (from seaborn) (2.2.3)\n",
      "Requirement already satisfied: pytz>=2020.1 in f:\\pythonproject\\soldanalysis\\.venv\\lib\\site-packages (from pandas>=1.2->seaborn) (2025.1)\n",
      "Requirement already satisfied: tzdata>=2022.7 in f:\\pythonproject\\soldanalysis\\.venv\\lib\\site-packages (from pandas>=1.2->seaborn) (2025.1)\n",
      "Requirement already satisfied: six>=1.5 in f:\\pythonproject\\soldanalysis\\.venv\\lib\\site-packages (from python-dateutil>=2.7->matplotlib) (1.17.0)\n",
      "Note: you may need to restart the kernel to use updated packages.\n"
     ]
    },
    {
     "name": "stderr",
     "output_type": "stream",
     "text": [
      "\n",
      "[notice] A new release of pip is available: 23.2.1 -> 25.0.1\n",
      "[notice] To update, run: python.exe -m pip install --upgrade pip\n"
     ]
    }
   ],
   "source": [
    "pip install matplotlib seaborn"
   ]
  },
  {
   "cell_type": "code",
   "execution_count": 11,
   "id": "02d79ca2-ac81-47e7-81ae-ddc2211f49b0",
   "metadata": {},
   "outputs": [
    {
     "name": "stderr",
     "output_type": "stream",
     "text": [
      "C:\\Users\\IG\\AppData\\Local\\Temp\\ipykernel_16552\\2818137398.py:9: FutureWarning: \n",
      "\n",
      "Passing `palette` without assigning `hue` is deprecated and will be removed in v0.14.0. Assign the `x` variable to `hue` and set `legend=False` for the same effect.\n",
      "\n",
      "  sns.barplot(data=sales_per_hour, x='sale_hour', y='количество_продаж', palette=\"viridis\")\n"
     ]
    },
    {
     "data": {
      "image/png": "[encoded data removed]",
      "text/plain": [
       "<Figure size 1200x600 with 1 Axes>"
      ]
     },
     "metadata": {},
     "output_type": "display_data"
    }
   ],
   "source": [
    "import matplotlib.pyplot as plt\n",
    "import seaborn as sns\n",
    "\n",
    "# Настройка стиля\n",
    "sns.set(style=\"whitegrid\")\n",
    "\n",
    "# Создаем график\n",
    "plt.figure(figsize=(12, 6))\n",
    "sns.barplot(data=sales_per_hour, x='sale_hour', y='количество_продаж', palette=\"viridis\")\n",
    "plt.title('Количество продаж по часам за 10 марта')\n",
    "plt.xlabel('Час')\n",
    "plt.ylabel('Количество продаж')\n",
    "plt.xticks(rotation=45)\n",
    "plt.show()"
   ]
  },
  {
   "cell_type": "code",
   "execution_count": 12,
   "id": "be90657f-0056-435e-876a-82139ab8d8ec",
   "metadata": {},
   "outputs": [
    {
     "data": {
      "image/png": "[encoded data removed]",
      "text/plain": [
       "<Figure size 1000x600 with 1 Axes>"
      ]
     },
     "metadata": {},
     "output_type": "display_data"
    }
   ],
   "source": [
    "# Гистограмма цен\n",
    "plt.figure(figsize=(10, 6))\n",
    "\n",
    "# Строим гистограмму с шириной столбцов 10\n",
    "sns.histplot(df['price'], binwidth=10, kde=False)\n",
    "plt.title('Распределение цен')\n",
    "plt.xlim(0,200)\n",
    "\n",
    "# Включаем сетку\n",
    "plt.grid(True)\n",
    "\n",
    "plt.xlabel('Цена')\n",
    "plt.ylabel('Частота')\n",
    "plt.show()"
   ]
  },
  {
   "cell_type": "code",
   "execution_count": null,
   "id": "1a660d1c-fe11-47c2-9515-c6585624bea8",
   "metadata": {},
   "outputs": [],
   "source": [
    "\n"
   ]
  },
  {
   "cell_type": "code",
   "execution_count": null,
   "id": "05f2bc1e-5233-40c9-8cdd-44c54a9b8f69",
   "metadata": {},
   "outputs": [],
   "source": []
  },
  {
   "cell_type": "code",
   "execution_count": null,
   "id": "8884a1af-c8de-457c-96b5-65b3206516d8",
   "metadata": {},
   "outputs": [],
   "source": []
  }
 ],
 "metadata": {
  "kernelspec": {
   "display_name": "Python 3 (ipykernel)",
   "language": "python",
   "name": "python3"
  },
  "language_info": {
   "codemirror_mode": {
    "name": "ipython",
    "version": 3
   },
   "file_extension": ".py",
   "mimetype": "text/x-python",
   "name": "python",
   "nbconvert_exporter": "python",
   "pygments_lexer": "ipython3",
   "version": "3.13.0"
  }
 },
 "nbformat": 4,
 "nbformat_minor": 5
}
